{
  "nbformat": 4,
  "nbformat_minor": 0,
  "metadata": {
    "colab": {
      "provenance": [],
      "authorship_tag": "ABX9TyNa2/EQsr3HUIigZqK6q7AL",
      "include_colab_link": true
    },
    "kernelspec": {
      "name": "python3",
      "display_name": "Python 3"
    },
    "language_info": {
      "name": "python"
    }
  },
  "cells": [
    {
      "cell_type": "markdown",
      "metadata": {
        "id": "view-in-github",
        "colab_type": "text"
      },
      "source": [
        "<a href=\"https://colab.research.google.com/github/YejinJennPark/TEST/blob/main/PORTFOLIO_jenn_model_1.ipynb\" target=\"_parent\"><img src=\"https://colab.research.google.com/assets/colab-badge.svg\" alt=\"Open In Colab\"/></a>"
      ]
    },
    {
      "cell_type": "code",
      "execution_count": null,
      "metadata": {
        "id": "VDxkXFRDfxvp"
      },
      "outputs": [],
      "source": [
        "# 두가지 카테고리 분류하는 모델\n",
        "# zzllrr imagergeek 다운로드\n",
        "# 수집하고 싶은 이미지 검색\n",
        "# 우측 상단 아이콘 클릭 -> Go 버튼 누른 후 화면 전환\n",
        "# 필요 없는 이미지, 아이콘 파일 클릭해서 제거\n",
        "# rename 버튼 클릭 후 prefix 버튼 클릭 이름 명명 규칙 수정\n",
        "# 수정한 이미지 이름 preview 버튼 클릭 후 반영 확인\n",
        "# save 누른 후 수집 대기 -> 수집 완료 후\n",
        "# 해당 카테고리 폴더 생성 후 모두 저장        #### 데이터 수집 -> 전처리 -> detection -> segmentation\n",
        "\n",
        "# 상위 폴더 생성 후 카테고리 폴더를 모두 넣기\n",
        "# 상위 폴더 압출 -> our_dataset.zip"
      ]
    },
    {
      "cell_type": "code",
      "source": [
        "# drive에 압축파일 업로드 하고\n",
        "# 아래 코드 행\n",
        "!unzip /content/drive/MyDrive/chest_xray.zip"
      ],
      "metadata": {
        "id": "HBocNf2B2uPb"
      },
      "execution_count": null,
      "outputs": []
    },
    {
      "cell_type": "code",
      "source": [
        "# 파일을 접근 -> 메모리에 파일을 올려야 -> 모든 파일의 경로가 필요\n",
        "from glob import glob\n",
        "\n",
        "mother_path = '/content/chexpert/train'\n",
        "# dataset 폴더가 없는 상태에서 풀렸다면\n",
        "# mother_path = '/content/\n",
        "glob(mother_path + '/*/*')"
      ],
      "metadata": {
        "id": "3mzEUtkk2zQi"
      },
      "execution_count": null,
      "outputs": []
    },
    {
      "cell_type": "code",
      "source": [
        "# 두 가지 path를 결합하고 싶을 때\n",
        "# 굳이 os.path.join 하는 이유, 변수로 정의해서 관리하면 훨씬 편함,경로 수정이나 유지보수 하기 편함, 리눅스/맥/window이냐에 따라서 사용법이 다 다름\n",
        "# = a+'/'+b 리눅스, 맥, window\n",
        "\n",
        "import os\n",
        "import numpy as np\n",
        "\n",
        "a = '/content/'\n",
        "b = 'test'\n",
        "os.path.join(a, b)\n",
        "\n",
        "from PIL import Image\n",
        "\n",
        "folder = ['NORMAL', 'PNEUMONIA']      # 접근할 폴더명\n",
        "train = []\n",
        "label = []\n",
        "\n",
        "# for idx, folder_name in enumerate(folder):      # 전처리\n",
        "#   folder = os.path.join(mother_path, folder_name)\n",
        "#   all_files_path = glob(folder+'/*')\n",
        "#   # 전처리\n",
        "#   for file_path in all_files_path:\n",
        "#     img = Image.open(file_path)\n",
        "#     # pring(img)  => 잘 받아오는지 확인\n",
        "#     # 이미지 파일 전처리\n",
        "#     img = img.resize((128, 128))\n",
        "#     img = img.convert('RGB')    # -> 컬러 이미지 객체, 이제 넘파이 이미지로 바꿔야 함\n",
        "#     np_img = np.array(img)\n",
        "#     train.append(np.img)\n",
        "#     label.append(idx)   # train과 label도 numpy로 바꿔줘야 함\n",
        "\n",
        "for idx, folder_name in enumerate(folder):      # 전처리\n",
        "  folder_list = os.path.join(mother_path, folder_name)\n",
        "  all_files_path = glob(folder+'/*')\n",
        "  # 전처리\n",
        "  for k, file_path in enumerate(all_files_path):\n",
        "    img = Image.open(file_path)\n",
        "    # pring(img)  => 잘 받아오는지 확인\n",
        "    # 이미지 파일 전처리\n",
        "    img = img.resize((128, 128))\n",
        "    img = img.convert('RGB')    # -> 컬러 이미지 객체, 이제 넘파이 이미지로 바꿔야 함\n",
        "    np_img = np.array(img)\n",
        "    train.append(np.img)\n",
        "    label.append(idx)   # train과 label도 numpy로 바꿔줘야 함\n",
        "    if k % 20 == 0:\n",
        "      print(f'{k}' / {len(all_files_path)})\n",
        "np_train = np.array(train)\n",
        "np_label = np.array(label)"
      ],
      "metadata": {
        "colab": {
          "base_uri": "https://localhost:8080/",
          "height": 110
        },
        "id": "6hdvuVi_3Ydq",
        "outputId": "a8a4dad9-b35d-450c-ce97-d32fdc8d81ee"
      },
      "execution_count": null,
      "outputs": [
        {
          "output_type": "error",
          "ename": "SyntaxError",
          "evalue": "expected ':' (<ipython-input-1-28fbe67dbbdb>, line 19)",
          "traceback": [
            "\u001b[0;36m  File \u001b[0;32m\"<ipython-input-1-28fbe67dbbdb>\"\u001b[0;36m, line \u001b[0;32m19\u001b[0m\n\u001b[0;31m    for file in all_files_path\u001b[0m\n\u001b[0m                              ^\u001b[0m\n\u001b[0;31mSyntaxError\u001b[0m\u001b[0;31m:\u001b[0m expected ':'\n"
          ]
        }
      ]
    },
    {
      "cell_type": "code",
      "source": [
        "# 코드 추가할 사람들을 위해\n",
        "np.bincount(np_label)     # 0레이블, 1레이블 각각의 개수\n",
        "print(np_train.shape)     # 만약 다른 게 있으면 출력이 안 됨"
      ],
      "metadata": {
        "id": "dnxbRNiN9FPh"
      },
      "execution_count": null,
      "outputs": []
    },
    {
      "cell_type": "code",
      "source": [
        "from sklearn.model_selection import train_test_split\n",
        "x_train, x_test, y_train, y_test = train_test_split(np_train, np_label, test_size = 0.2)"
      ],
      "metadata": {
        "id": "G6Tn0FQe9b7A"
      },
      "execution_count": null,
      "outputs": []
    },
    {
      "cell_type": "code",
      "source": [
        "# 데이터가 많아지면 전처리 시간도 길어짐, 따라서 save가 필요함\n",
        "xy = (x_train, y_test, y_train, y_test)\n",
        "np.save('preprocessed_data.npy')"
      ],
      "metadata": {
        "id": "YteFVTwP-Ko_"
      },
      "execution_count": null,
      "outputs": []
    },
    {
      "cell_type": "code",
      "source": [
        "print(np.bincount(np_label))\n",
        "print(np_train.shape)\n",
        "# np.save()"
      ],
      "metadata": {
        "colab": {
          "base_uri": "https://localhost:8080/",
          "height": 183
        },
        "id": "c3ita4b-T9Sz",
        "outputId": "72629f46-9f7c-4ef6-de82-29614c838d74"
      },
      "execution_count": null,
      "outputs": [
        {
          "output_type": "error",
          "ename": "NameError",
          "evalue": "name 'np' is not defined",
          "traceback": [
            "\u001b[0;31m---------------------------------------------------------------------------\u001b[0m",
            "\u001b[0;31mNameError\u001b[0m                                 Traceback (most recent call last)",
            "\u001b[0;32m<ipython-input-1-0cf62c04e2cf>\u001b[0m in \u001b[0;36m<cell line: 1>\u001b[0;34m()\u001b[0m\n\u001b[0;32m----> 1\u001b[0;31m \u001b[0mprint\u001b[0m\u001b[0;34m(\u001b[0m\u001b[0mnp\u001b[0m\u001b[0;34m.\u001b[0m\u001b[0mbincount\u001b[0m\u001b[0;34m(\u001b[0m\u001b[0mnp_label\u001b[0m\u001b[0;34m)\u001b[0m\u001b[0;34m)\u001b[0m\u001b[0;34m\u001b[0m\u001b[0;34m\u001b[0m\u001b[0m\n\u001b[0m\u001b[1;32m      2\u001b[0m \u001b[0mprint\u001b[0m\u001b[0;34m(\u001b[0m\u001b[0mnp_train\u001b[0m\u001b[0;34m.\u001b[0m\u001b[0mshape\u001b[0m\u001b[0;34m)\u001b[0m\u001b[0;34m\u001b[0m\u001b[0;34m\u001b[0m\u001b[0m\n\u001b[1;32m      3\u001b[0m \u001b[0;31m# np.save()\u001b[0m\u001b[0;34m\u001b[0m\u001b[0;34m\u001b[0m\u001b[0m\n",
            "\u001b[0;31mNameError\u001b[0m: name 'np' is not defined"
          ]
        }
      ]
    },
    {
      "cell_type": "code",
      "source": [
        "from sklearn.model_selection import train_test_split\n",
        "x_train, x_test, y_train, y_test = train_test_split(np_train, np_label, test_size=0.2)\n",
        "print(x_train.shape)\n",
        "print(x_test.shape)\n",
        "print(y_train.shape)\n",
        "print(y_test.shape)"
      ],
      "metadata": {
        "id": "AlmlAIS8Uw5L"
      },
      "execution_count": null,
      "outputs": []
    },
    {
      "cell_type": "code",
      "source": [
        "x_train = x_train / 255.\n",
        "x_test = x_test / 255."
      ],
      "metadata": {
        "id": "VPUqAroZU2cT"
      },
      "execution_count": null,
      "outputs": []
    },
    {
      "cell_type": "code",
      "source": [
        "import tensorflow as tf\n",
        "from tensorflow.keras import layers, models\n",
        "\n",
        "input_layer = layers.Input(shape=(128, 128, 3), name='start layer')       ####\n",
        "tower_1 = layers.Conv2D(64 , kernel_size=(1,1) ,\n",
        "                        padding='same', strides=(1,1),\n",
        "                        activation='relu',name = 'tower_1' )(input_layer)\n",
        "tower_2 = layers.Conv2D(64 , kernel_size=(1,1) ,\n",
        "                        padding='same', strides=(1,1),\n",
        "                        activation='relu' , name= 'tower_2_1')(input_layer)\n",
        "tower_2 = layers.Conv2D(64 , kernel_size=(3,3) ,\n",
        "                        padding='same', strides=(1,1),\n",
        "                        activation='relu', name= 'tower_2_2')(tower_2)\n",
        "tower_3 = layers.Conv2D(64 , kernel_size=(1,1) ,\n",
        "                        padding='same', strides=(1,1),\n",
        "                        activation='relu', name= 'tower_3_1')(input_layer)\n",
        "tower_3 = layers.Conv2D(64 , kernel_size=(5,5) ,\n",
        "                        padding='same', strides=(1,1),\n",
        "                        activation='relu', name= 'tower_3_2')(tower_3)\n",
        "tower_4 = layers.MaxPool2D(pool_size=(3,3) , strides=(1,1) ,\n",
        "                           padding='same', name= 'tower_4_1')(input_layer)\n",
        "tower_4 = layers.Conv2D(64 , kernel_size=(1,1) ,\n",
        "                        padding='same', strides=(1,1),\n",
        "                        activation='relu', name= 'tower_4_2')(tower_4)\n",
        "#\n",
        "concat_layer = layers.concatenate([tower_1,tower_2,tower_3,tower_4],axis=3)\n",
        "concat_layer = layers.MaxPool2D(pool_size=(3,3) , strides=(2,2), padding='valid')(concat_layer)\n",
        "##\n",
        "tower_2_1 = layers.Conv2D(120 , kernel_size=(1,1) ,\n",
        "                        padding='same', strides=(1,1),\n",
        "                        activation='relu',name = 'tower_2_1_1' )(concat_layer)\n",
        "tower_2_2_1 = layers.Conv2D(120 , kernel_size=(1,1) ,\n",
        "                        padding='same', strides=(1,1),\n",
        "                        activation='relu' , name= 'tower_2_2_1')(concat_layer)\n",
        "tower_2_2_2 = layers.Conv2D(120 , kernel_size=(3,3) ,\n",
        "                        padding='same', strides=(1,1),\n",
        "                        activation='relu', name= 'tower_2_2_2')(tower_2_2_1)\n",
        "tower_2_3_1 = layers.Conv2D(120 , kernel_size=(1,1) ,\n",
        "                        padding='same', strides=(1,1),\n",
        "                        activation='relu', name= 'tower_2_3_1')(concat_layer)\n",
        "tower_2_3_2 = layers.Conv2D(120 , kernel_size=(5,5) ,\n",
        "                        padding='same', strides=(1,1),\n",
        "                        activation='relu', name= 'tower_2_3_2')(tower_2_3_1)\n",
        "tower_2_4_1 = layers.MaxPool2D(pool_size=(3,3) , strides=(1,1) ,\n",
        "                           padding='same', name= 'tower_2_4_1')(concat_layer)\n",
        "tower_2_4_2 = layers.Conv2D(120 , kernel_size=(1,1) ,\n",
        "                        padding='same', strides=(1,1),\n",
        "                        activation='relu', name= 'tower_2_4_2')(tower_2_4_1)\n",
        "concat_layer_2 = layers.concatenate([tower_2_1,tower_2_2_2,tower_2_3_2,tower_2_4_2],\n",
        "                                  axis=3)\n",
        "concat_layer_2 = layers.MaxPool2D(pool_size=(3,3) , strides=(2,2), padding='valid')(concat_layer_2)\n",
        "# AveragePooling -> feature 하나당 하나의 값이 나오도록.\n",
        "last_avg_pool = layers.AveragePooling2D(pool_size=(25, 25) , strides=(1,1), padding='valid')(concat_layer_2)            ####\n",
        "flat_layer = layers.Flatten()(last_avg_pool)\n",
        "output_layer = layers.Dense(1 ,activation='sigmoid')(flat_layer)\n",
        "\n",
        "#### 변경 포인트(데이터가 변함에 따라 의존적으로 함께 변하는 부분) : input, lastavg_pool, output_layer\n",
        "#### 따라서 데이터 입력함에 따라 자동으로 바뀌는 코드가 제일 좋다! 어떻게 할까?\n",
        "#### 제 3자가 이 코드를 사용할 때 많은 변경 없이 사용할 수 있는 것, 유지보수 쉬운 것(하드코딩 하지 말아라)\n",
        "#### 성능이 안 좋으면 데이터가 구린 것. 만약 성능이 좋다면, 레이어를 하나씩 삭제해보면서 경량화하기\n",
        "#### GPT도 1/6로 경량화하여 3.5 배포했던 것\n",
        "model = models.Model(input_layer,output_layer)\n",
        "model.summary()"
      ],
      "metadata": {
        "id": "F9JvHpaKU31q"
      },
      "execution_count": null,
      "outputs": []
    },
    {
      "cell_type": "code",
      "source": [
        "from google.colab import drive\n",
        "drive.mount('/content/drive')"
      ],
      "metadata": {
        "id": "QSgBfK0ymbXW"
      },
      "execution_count": null,
      "outputs": []
    },
    {
      "cell_type": "code",
      "source": [
        "!mkdir tensorboard_log"
      ],
      "metadata": {
        "id": "OQEKyehsVo36"
      },
      "execution_count": null,
      "outputs": []
    },
    {
      "cell_type": "code",
      "source": [
        "model.compile(loss='binary_categorical_crossentropy',\n",
        "              optimizer='adam',metrics=['accuracy'])\n",
        "tb = tf.keras.callbacks.TensorBoard(log_dir='/content/tensorboard_log',\n",
        "                                    histogram_freq=1)\n",
        "# 체크포인트, 모델, 데이터 수정\n",
        "\n",
        "model.fit(x_train,y_train,\n",
        "          validation_data=(x_test,y_test),\n",
        "          epochs=10,callbacks=[tb])"
      ],
      "metadata": {
        "id": "Ar4sPEbEVouL"
      },
      "execution_count": null,
      "outputs": []
    },
    {
      "cell_type": "code",
      "source": [
        "# colab에서만 쓸 수 있음\n",
        "from google.colab import files\n",
        "f = files.upload()"
      ],
      "metadata": {
        "id": "wTZdFPbGXvzj"
      },
      "execution_count": null,
      "outputs": []
    },
    {
      "cell_type": "code",
      "source": [
        "# f 출력해보기 -> 원시 바이너리 형태(b로 시작) -> 디코딩해야 이미지인 것 식별 가능\n",
        "testfile_name = list(f.keys())[0]\n",
        "# f\n",
        "# f.keys()\n",
        "# list(f.keys())[0]\n",
        "# testfile_name = list(f.keys())[0]"
      ],
      "metadata": {
        "id": "BNpuZy04X5sp"
      },
      "execution_count": null,
      "outputs": []
    },
    {
      "cell_type": "code",
      "source": [
        "# 더 깔끔한 코드를 짤 수는 없을까?\n",
        "# 자주 쓰는 내용은 함수로 만들기\n",
        "# 리펙토링"
      ],
      "metadata": {
        "id": "CjJ3FVQdYkgK"
      },
      "execution_count": null,
      "outputs": []
    },
    {
      "cell_type": "code",
      "source": [
        "img = Image.open(file_path)\n",
        "    # pring(img)  => 잘 받아오는지 확인\n",
        "    # 이미지 파일 전처리\n",
        "    img = img.resize((128, 128))\n",
        "    img = img.convert('RGB')\n",
        "    # 넘파이 어레이로 변환\n",
        "    data = np.asarray(img)\n",
        "    test_image_tensor = np.array([data])  # 모든 이미지는 tensor 형태로 나온다\n",
        "    test_image_tensor = test_image_tensor / 255.\n",
        "    test_image_tensor.shape"
      ],
      "metadata": {
        "id": "L2S7xudRYpJ5"
      },
      "execution_count": null,
      "outputs": []
    },
    {
      "cell_type": "code",
      "source": [
        "# 협업하면 모듈 단위로 분업 - > 고로 모두 함수로 지정함. 평소에 파이썬을 연습해야 하는 이유"
      ],
      "metadata": {
        "id": "7pUdAkVfYvcp"
      },
      "execution_count": null,
      "outputs": []
    },
    {
      "cell_type": "code",
      "source": [
        "# 한번 뽑아보기. array([[0.90]]) -> 1일 확률이 90이다\n",
        "# model.predict(test_image_tensor)\n",
        "# if result[0][0] > 0.5:\n",
        "\n",
        "result = model.predict(test_image_tensor)\n",
        "if result[0][0] > 0.5:\n",
        "  print(f'{folder[0]}일 확률이 {result[0][0] * 100}% 입니다')\n",
        "else:\n",
        "  print(f'{folder[1]}일 확률이 {1 - result[0][0] * 100}% 입니다')"
      ],
      "metadata": {
        "id": "SMDUambWZtIC"
      },
      "execution_count": null,
      "outputs": []
    },
    {
      "cell_type": "code",
      "source": [
        "# 개발자는 open source 문화!\n",
        "# Github에 feedback 받고 수정 제안 승인! -> Contributor 등록되고 스펙이 됨!\n",
        "# 대학원은 논문으로 증명을 해야하고, 개발자는 GitHub로 증명을 해야함.\n",
        "\n",
        "# 외부에 노출해서는 안되는 내부 코드일 경우\n",
        "# '커뮤니케이션 잘한다' => 개발 문서 잘 쓰고, 깃허브 등 개발 관련 툴 잘쓴다.\n",
        "# GitHub 활용법 익히기 - slack, notion은 후순위\n",
        "# tfx, model, front, back\n",
        "# 코드 관리를 잘 해야함. 함수 형태로 정의를 하고, 이 함수는 내가 할 거니까 다른 사람은 건드리지 마!"
      ],
      "metadata": {
        "id": "PDhHLtUGfk0Q"
      },
      "execution_count": null,
      "outputs": []
    },
    {
      "cell_type": "code",
      "source": [
        "## Normalize를 하는 이유\n",
        "## 공부한 거 정리하기.\n",
        "## 인턴의 문서 관리 기본기 보기 위해 올리라고"
      ],
      "metadata": {
        "id": "k4OLNc20gXrK"
      },
      "execution_count": null,
      "outputs": []
    },
    {
      "cell_type": "code",
      "source": [
        "# 목표 성능 90%\n",
        "# 아무것도 튜닝 안했는데 현재 89.8% -> HT(결과적으로 하이퍼파라미터 튜닝하는 게 제일 좋음... 사실상 튜닝해도 성능 진짜 조금씩 올라감)\n",
        "# 현재 85% (이처럼 목표치와 거리가 있을 경우)\n",
        "# 1. DATA\n",
        "# 2. Model 교체 혹은 확장\n",
        "# 3. HT"
      ],
      "metadata": {
        "id": "O7Xasbzkkiv1"
      },
      "execution_count": null,
      "outputs": []
    }
  ]
}